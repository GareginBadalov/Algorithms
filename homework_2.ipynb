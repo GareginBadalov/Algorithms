{
 "cells": [
  {
   "cell_type": "markdown",
   "metadata": {},
   "source": [
    "1. Постройте график зависимости весов всех признаков от lambda в самописной L2-регуляризации (на данных про ЕГЭ). Сделайте вывод"
   ]
  },
  {
   "cell_type": "code",
   "execution_count": 3,
   "metadata": {},
   "outputs": [],
   "source": [
    "import numpy as np\n",
    "import matplotlib.pyplot as plt\n",
    "\n",
    "X = np.array([[   1,    1,  500,    1],\n",
    "              [   1,    1,  700,    1],\n",
    "              [   1,    2,  750,    2],\n",
    "              [   1,    5,  600,    1],\n",
    "              [   1,    3, 1450,    2],\n",
    "              [   1,    0,  800,    1],\n",
    "              [   1,    5, 1500,    3],\n",
    "              [   1,   10, 2000,    3],\n",
    "              [   1,    1,  450,    1],\n",
    "              [   1,    2, 1000,    2]])\n",
    "\n",
    "y = [45, 55, 50, 55, 60, 35, 75, 80, 50, 60]\n",
    "\n",
    "def standard_scale(X):\n",
    "    mean = X.mean()\n",
    "    std = X.std()\n",
    "    return (X - mean) / std\n",
    "\n",
    "X_st = X.copy().astype(np.float64)\n",
    "X_st[:, 1] = standard_scale(X_st[:, 1])\n",
    "X_st[:, 2] = standard_scale(X_st[:, 2])\n",
    "X_st[:, 3] = standard_scale(X_st[:, 3])\n",
    "\n",
    "X_st\n",
    "\n",
    "def calc_mse(y, y_pred):\n",
    "    err = np.mean((y - y_pred)**2)\n",
    "    return err"
   ]
  },
  {
   "cell_type": "code",
   "execution_count": 19,
   "metadata": {},
   "outputs": [],
   "source": [
    "def gradient_descent_reg_l2(X, y, iterations, eta=1e-4, reg=1e-8):\n",
    "    W = np.random.randn(X.shape[1])\n",
    "    n = X.shape[0]\n",
    "    w_list = []\n",
    "    for i in range(0, iterations):\n",
    "        y_pred = np.dot(X, W)\n",
    "        err = calc_mse(y, y_pred)\n",
    "        \n",
    "        dQ = 2/n * X.T @ (y_pred - y) # градиент функции ошибки\n",
    "        dReg = reg * W # градиент регуляризации\n",
    "        \n",
    "        W -= eta * (dQ + dReg)\n",
    "        w_list = np.append(w_list, W)\n",
    "        if i % (iterations / 10) == 0:\n",
    "            print(f'Iter: {i}, weights: {W}, error {err}')\n",
    "    \n",
    "    print(f'Final MSE: {calc_mse(y, np.dot(X, W))}')\n",
    "    return w_list, reg"
   ]
  },
  {
   "cell_type": "code",
   "execution_count": 22,
   "metadata": {},
   "outputs": [
    {
     "name": "stdout",
     "output_type": "stream",
     "text": [
      "Iter: 0, weights: [ 0.64988643 -0.37964949  0.25677548 -0.88414924], error 3448.3024024094802\n",
      "Iter: 500, weights: [56.49488523  5.87620067  1.36894938  5.21338533], error 25.419101936484402\n",
      "Iter: 1000, weights: [56.49717505  6.1718704   0.2584356   6.06745588], error 24.97117746937121\n",
      "Iter: 1500, weights: [56.49717514  6.25657369 -0.13427816  6.38840082], error 24.913340167218717\n",
      "Iter: 2000, weights: [56.49717514  6.28593854 -0.27521328  6.50456418], error 24.90579125631626\n",
      "Iter: 2500, weights: [56.49717514  6.29644621 -0.32589848  6.54639104], error 24.904791190850286\n",
      "Iter: 3000, weights: [56.49717514  6.30022356 -0.34413214  6.56144056], error 24.90465346938457\n",
      "Iter: 3500, weights: [56.49717514  6.30158236 -0.35069186  6.56685489], error 24.904632663735224\n",
      "Iter: 4000, weights: [56.49717514  6.30207119 -0.35305179  6.56880276], error 24.90462889858663\n",
      "Iter: 4500, weights: [56.49717514  6.30224706 -0.3539008   6.56950352], error 24.904628025494063\n",
      "Final MSE: 24.90462777370393\n"
     ]
    },
    {
     "data": {
      "text/plain": [
       "[<matplotlib.lines.Line2D at 0x2285a14cb80>]"
      ]
     },
     "execution_count": 22,
     "metadata": {},
     "output_type": "execute_result"
    },
    {
     "data": {
      "image/png": "[encoded data removed]",
      "text/plain": [
       "<Figure size 432x288 with 1 Axes>"
      ]
     },
     "metadata": {
      "needs_background": "light"
     },
     "output_type": "display_data"
    }
   ],
   "source": [
    "w_list, reg = gradient_descent_reg_l2(X_st, y, iterations=5000, eta=1e-2, reg=1e-4)\n",
    "w_list, reg\n",
    "plt.plot(w_list)\n",
    "plt.plot(reg)"
   ]
  },
  {
   "cell_type": "markdown",
   "metadata": {},
   "source": [
    "Не совсем понял, что нужно изобразить постараюсь доделать и прикрепить к след дз"
   ]
  },
  {
   "cell_type": "markdown",
   "metadata": {},
   "source": [
    "2. Напишите функцию наподобие gradient_descent_reg_l2, но для применения L1-регуляризации."
   ]
  },
  {
   "cell_type": "code",
   "execution_count": 49,
   "metadata": {},
   "outputs": [],
   "source": [
    "\n",
    "\n",
    "def gradient_descent_reg_l1(X, y, iterations, eta=1e-4, reg=1e-8):\n",
    "    W = np.random.randn(X.shape[1])\n",
    "    n = X.shape[0]\n",
    "    W_list = list\n",
    "    for i in range(0, iterations):\n",
    "        y_pred = np.dot(X, W)\n",
    "        err = calc_mse(y, y_pred)\n",
    "        \n",
    "        dQ = 2/n * X.T @ (y_pred - y) # градиент функции ошибки\n",
    "        # Изменения \n",
    "        dReg = reg * (W / abs(W)) # градиент регуляризации\n",
    "        \n",
    "        W -= eta * (dQ + dReg)\n",
    "        if i % (iterations / 10) == 0:\n",
    "            print(f'Iter: {i}, weights: {W}, error {err}')\n",
    "    \n",
    "    print(f'Final MSE: {calc_mse(y, np.dot(X, W))}')\n",
    "    return W\n",
    "\n"
   ]
  },
  {
   "cell_type": "code",
   "execution_count": 50,
   "metadata": {},
   "outputs": [
    {
     "name": "stdout",
     "output_type": "stream",
     "text": [
      "Iter: 0, weights: [ 0.55338421  1.06569842  0.80463473 -0.26608795], error 3398.9772350013277\n",
      "Iter: 500, weights: [56.49765485  5.9180303   1.3044141   5.23971159], error 25.384884940985202\n",
      "Iter: 1000, weights: [56.49994991  6.1780229   0.23714238  6.08354907], error 24.966731895730597\n",
      "Iter: 1500, weights: [56.49995     6.25866242 -0.14271743  6.39525883], error 24.91268334234924\n",
      "Iter: 2000, weights: [56.49995     6.28700196 -0.27910813  6.50775127], error 24.905673743530766\n",
      "Iter: 2500, weights: [56.49995     6.29717358 -0.32819171  6.54826026], error 24.904759197153346\n",
      "Iter: 3000, weights: [56.49995     6.30083328 -0.34585847  6.56284207], error 24.90463840741761\n",
      "Iter: 3500, weights: [56.49995     6.30215049 -0.35221744  6.56809071], error 24.90462192919493\n",
      "Iter: 4000, weights: [56.49995     6.3026246  -0.3545063   6.56997992], error 24.904619495934817\n",
      "Iter: 4500, weights: [56.49995     6.30279525 -0.35533016  6.57065993], error 24.904619073288835\n",
      "Final MSE: 24.904618979874755\n"
     ]
    },
    {
     "data": {
      "text/plain": [
       "array([56.49995   ,  6.30285661, -0.35562635,  6.57090441])"
      ]
     },
     "execution_count": 50,
     "metadata": {},
     "output_type": "execute_result"
    }
   ],
   "source": [
    "gradient_descent_reg_l1(X_st, y, iterations=5000, eta=1e-2, reg=1e-4)"
   ]
  },
  {
   "cell_type": "code",
   "execution_count": null,
   "metadata": {},
   "outputs": [],
   "source": []
  }
 ],
 "metadata": {
  "kernelspec": {
   "display_name": "Python 3",
   "language": "python",
   "name": "python3"
  },
  "language_info": {
   "codemirror_mode": {
    "name": "ipython",
    "version": 3
   },
   "file_extension": ".py",
   "mimetype": "text/x-python",
   "name": "python",
   "nbconvert_exporter": "python",
   "pygments_lexer": "ipython3",
   "version": "3.8.5"
  }
 },
 "nbformat": 4,
 "nbformat_minor": 4
}
